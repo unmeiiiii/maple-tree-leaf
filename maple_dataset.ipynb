{
 "cells": [
  {
   "cell_type": "code",
   "execution_count": 1,
   "metadata": {},
   "outputs": [],
   "source": [
    "import os\n",
    "import shutil\n",
    "from sklearn.model_selection import train_test_split\n",
    "import matplotlib.pyplot as plt\n",
    "import numpy as np\n",
    "\n",
    "## **2. Dataset Setup**\n",
    "# Define paths and categories\n",
    "base_dir = \"datasets\"\n",
    "categories = [\"sugar_maple\", \"red_maple\", \"silver_maple\", \"japanese_maple\"]\n",
    "train_dir = os.path.join(base_dir, \"train\")\n",
    "val_dir = os.path.join(base_dir, \"val\")\n",
    "test_dir = os.path.join(base_dir, \"test\")"
   ]
  },
  {
   "cell_type": "code",
   "execution_count": 2,
   "metadata": {},
   "outputs": [
    {
     "name": "stdout",
     "output_type": "stream",
     "text": [
      "Looking for directory: C:/Users/myral/OneDrive/Documents/datasets\\raw\\sugar_maple\n",
      "Looking for directory: C:/Users/myral/OneDrive/Documents/datasets\\raw\\red_maple\n",
      "Looking for directory: C:/Users/myral/OneDrive/Documents/datasets\\raw\\silver_maple\n",
      "Looking for directory: C:/Users/myral/OneDrive/Documents/datasets\\raw\\japanese_maple\n"
     ]
    }
   ],
   "source": [
    "base_dir = \"C:/Users/myral/OneDrive/Documents/datasets\"\n",
    "\n",
    "\n",
    "raw_dir = os.path.join(base_dir, \"raw\")\n",
    "for category in categories:\n",
    "    category_dir = os.path.join(raw_dir, category)\n",
    "    print(f\"Looking for directory: {category_dir}\")  # Debugging output\n"
   ]
  },
  {
   "cell_type": "code",
   "execution_count": 8,
   "metadata": {},
   "outputs": [
    {
     "name": "stdout",
     "output_type": "stream",
     "text": [
      "c:\\Users\\myral\\OneDrive\\Documents\\datasets\n"
     ]
    }
   ],
   "source": [
    "import os\n",
    "print(os.getcwd())  # Shows the current working directory\n"
   ]
  },
  {
   "cell_type": "code",
   "execution_count": 21,
   "metadata": {},
   "outputs": [
    {
     "name": "stdout",
     "output_type": "stream",
     "text": [
      "Images resized and split into train, val, and test directories!\n"
     ]
    }
   ],
   "source": [
    "from PIL import Image\n",
    "import os\n",
    "import shutil\n",
    "import random\n",
    "\n",
    "# Base directory paths\n",
    "base_dir = \"C:/Users/myral/OneDrive/Documents/datasets\"\n",
    "raw_dir = os.path.join(base_dir, \"raw\")\n",
    "processed_dir = os.path.join(base_dir, \"processed\")\n",
    "train_dir = os.path.join(processed_dir, \"train\")\n",
    "val_dir = os.path.join(processed_dir, \"val\")\n",
    "test_dir = os.path.join(processed_dir, \"test\")\n",
    "\n",
    "# Subspecies categories\n",
    "categories = ['sugar_maple', 'red_maple', 'silver_maple', 'japanese_maple']\n",
    "\n",
    "# Create directories for train, val, and test splits\n",
    "for split_dir in [train_dir, val_dir, test_dir]:\n",
    "    for category in categories:\n",
    "        os.makedirs(os.path.join(split_dir, category), exist_ok=True)\n",
    "\n",
    "# Function to resize images\n",
    "def resize_images(input_dir, output_dir, size=(224, 224)):\n",
    "    for file_name in os.listdir(input_dir):\n",
    "        if file_name.endswith(('.jpg', '.jpeg', '.png')):  # Check for valid image files\n",
    "            img_path = os.path.join(input_dir, file_name)\n",
    "            try:\n",
    "                img = Image.open(img_path)\n",
    "                img = img.resize(size)  # Resize to target size\n",
    "                img.save(os.path.join(output_dir, file_name))  # Save to output directory\n",
    "            except Exception as e:\n",
    "                print(f\"Error processing {img_path}: {e}\")\n",
    "\n",
    "# Split images into train, val, and test sets\n",
    "def split_and_resize_images():\n",
    "    for category in categories:\n",
    "        input_path = os.path.join(raw_dir, category)\n",
    "        files = [f for f in os.listdir(input_path) if f.endswith(('.jpg', '.jpeg', '.png'))]\n",
    "        random.shuffle(files)  # Shuffle files for randomness\n",
    "        \n",
    "        # Split proportions\n",
    "        train_split = int(len(files) * 0.8)  # 80% for training\n",
    "        val_split = int(len(files) * 0.1)   # 10% for validation\n",
    "        test_split = len(files) - train_split - val_split  # Remaining for testing\n",
    "        \n",
    "        # Assign splits\n",
    "        train_files = files[:train_split]\n",
    "        val_files = files[train_split:train_split + val_split]\n",
    "        test_files = files[train_split + val_split:]\n",
    "        \n",
    "        # Resize and save to respective directories\n",
    "        resize_images(input_path, os.path.join(train_dir, category), size=(224, 224))\n",
    "        resize_images(input_path, os.path.join(val_dir, category), size=(224, 224))\n",
    "        resize_images(input_path, os.path.join(test_dir, category), size=(224, 224))\n",
    "\n",
    "# Execute the script\n",
    "split_and_resize_images()\n",
    "print(\"Images resized and split into train, val, and test directories!\")\n",
    "\n"
   ]
  }
 ],
 "metadata": {
  "kernelspec": {
   "display_name": "Python 3",
   "language": "python",
   "name": "python3"
  },
  "language_info": {
   "codemirror_mode": {
    "name": "ipython",
    "version": 3
   },
   "file_extension": ".py",
   "mimetype": "text/x-python",
   "name": "python",
   "nbconvert_exporter": "python",
   "pygments_lexer": "ipython3",
   "version": "3.11.9"
  }
 },
 "nbformat": 4,
 "nbformat_minor": 2
}
